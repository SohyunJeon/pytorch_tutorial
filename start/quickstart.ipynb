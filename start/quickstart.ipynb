{
 "cells": [
  {
   "cell_type": "markdown",
   "source": [
    "# 데이터 작업\n",
    "- dataset : 샘플, 정답\n",
    "- dataloader : dataset을 순회 가능한 객체로 감싼 것"
   ],
   "metadata": {
    "collapsed": false
   }
  },
  {
   "cell_type": "code",
   "execution_count": 2,
   "outputs": [],
   "source": [
    "import torch\n",
    "from torch import nn\n",
    "from torch.utils.data import DataLoader\n",
    "from torchvision import datasets\n",
    "from torchvision.transforms import ToTensor"
   ],
   "metadata": {
    "collapsed": false,
    "pycharm": {
     "name": "#%%\n"
    }
   }
  },
  {
   "cell_type": "code",
   "execution_count": 3,
   "outputs": [
    {
     "name": "stdout",
     "output_type": "stream",
     "text": [
      "Using downloaded and verified file: data/FashionMNIST/raw/train-images-idx3-ubyte.gz\n",
      "Extracting data/FashionMNIST/raw/train-images-idx3-ubyte.gz to data/FashionMNIST/raw\n",
      "Using downloaded and verified file: data/FashionMNIST/raw/train-labels-idx1-ubyte.gz\n",
      "Extracting data/FashionMNIST/raw/train-labels-idx1-ubyte.gz to data/FashionMNIST/raw\n",
      "Using downloaded and verified file: data/FashionMNIST/raw/t10k-images-idx3-ubyte.gz\n",
      "Extracting data/FashionMNIST/raw/t10k-images-idx3-ubyte.gz to data/FashionMNIST/raw\n",
      "Using downloaded and verified file: data/FashionMNIST/raw/t10k-labels-idx1-ubyte.gz\n",
      "Extracting data/FashionMNIST/raw/t10k-labels-idx1-ubyte.gz to data/FashionMNIST/raw\n",
      "Processing...\n",
      "Done!\n"
     ]
    },
    {
     "name": "stderr",
     "output_type": "stream",
     "text": [
      "/Users/sherry/opt/anaconda3/envs/torch/lib/python3.7/site-packages/torchvision/datasets/mnist.py:480: UserWarning: The given NumPy array is not writeable, and PyTorch does not support non-writeable tensors. This means you can write to the underlying (supposedly non-writeable) NumPy array using the tensor. You may want to copy the array to protect its data or make it writeable before converting it to a tensor. This type of warning will be suppressed for the rest of this program. (Triggered internally at  /Users/distiller/project/conda/conda-bld/pytorch_1607370126481/work/torch/csrc/utils/tensor_numpy.cpp:141.)\n",
      "  return torch.from_numpy(parsed.astype(m[2], copy=False)).view(*s)\n"
     ]
    }
   ],
   "source": [
    "training_data = datasets.FashionMNIST(\n",
    "    root='data',\n",
    "    train=True,\n",
    "    download=True,\n",
    "    transform=ToTensor()\n",
    ")\n",
    "\n",
    "test_data = datasets.FashionMNIST(\n",
    "    root='data',\n",
    "    train=False,\n",
    "    download=True,\n",
    "    transform=ToTensor()\n",
    ")"
   ],
   "metadata": {
    "collapsed": false,
    "pycharm": {
     "name": "#%%\n"
    }
   }
  },
  {
   "cell_type": "markdown",
   "source": [
    "### dataloader 지원\n",
    "- 자동화된 배치\n",
    "- 샘플링\n",
    "- shuffle\n",
    "- multiprocess data loading"
   ],
   "metadata": {
    "collapsed": false,
    "pycharm": {
     "name": "#%% md\n"
    }
   }
  },
  {
   "cell_type": "code",
   "source": [
    "batch_size = 64\n",
    "\n",
    "# 데이터 로더 생성\n",
    "train_dataloader = DataLoader(training_data, batch_size=batch_size)\n",
    "test_dataloader = DataLoader(test_data, batch_size=batch_size)\n",
    "\n",
    "for X, y in test_dataloader:\n",
    "    print(f'Shape of X[N, C, H, W] : {X.shape}') # batch_size, channel, height, width\n",
    "    print(f'Shape of y: {y.shape} / {y.dtype}')\n",
    "    break"
   ],
   "metadata": {
    "collapsed": false,
    "pycharm": {
     "name": "#%%\n"
    }
   },
   "execution_count": 15,
   "outputs": [
    {
     "name": "stdout",
     "output_type": "stream",
     "text": [
      "Shape of X[N, C, H, W] : torch.Size([64, 1, 28, 28])\n",
      "Shape of y: torch.Size([64]) / torch.int64\n"
     ]
    }
   ]
  },
  {
   "cell_type": "markdown",
   "source": [
    "### 모델 만들기\n",
    "- nn.Module을 상속받는 class로 생성\n",
    "- init에서 신경망의 계층을 정의, forward에서 신경에 데이터를 어떻게 전달할지 지정\n"
   ],
   "metadata": {
    "collapsed": false,
    "pycharm": {
     "name": "#%% md\n"
    }
   }
  },
  {
   "cell_type": "code",
   "source": [
    "#gpu 또는 cpu 정의\n",
    "device = 'cuda' if torch.cuda.is_available() else 'cpu'\n",
    "print(f'Using : {device}device')"
   ],
   "metadata": {
    "collapsed": false,
    "pycharm": {
     "name": "#%%\n"
    }
   },
   "execution_count": 5,
   "outputs": [
    {
     "name": "stdout",
     "output_type": "stream",
     "text": [
      "Using : cpudevice\n"
     ]
    }
   ]
  },
  {
   "cell_type": "code",
   "execution_count": 23,
   "outputs": [
    {
     "name": "stdout",
     "output_type": "stream",
     "text": [
      "NeuralNetwork(\n",
      "  (flatten): Flatten(start_dim=1, end_dim=-1)\n",
      "  (linear_relu_stack): Sequential(\n",
      "    (0): Linear(in_features=784, out_features=512, bias=True)\n",
      "    (1): ReLU()\n",
      "    (2): Linear(in_features=512, out_features=512, bias=True)\n",
      "    (3): ReLU()\n",
      "    (4): Linear(in_features=512, out_features=10, bias=True)\n",
      "  )\n",
      ")\n"
     ]
    }
   ],
   "source": [
    "# 모델 정의\n",
    "class NeuralNetwork(nn.Module):\n",
    "    def __init__(self):\n",
    "        super(NeuralNetwork, self).__init__()\n",
    "        self.flatten = nn.Flatten()\n",
    "        self.linear_relu_stack = nn.Sequential(\n",
    "            nn.Linear(28*28, 512),\n",
    "            nn.ReLU(),\n",
    "            nn.Linear(512, 512),\n",
    "            nn.ReLU(),\n",
    "            nn.Linear(512, 10)\n",
    "        )\n",
    "\n",
    "    def forward(self, x):\n",
    "        x = self.flatten(x)\n",
    "        logits = self.linear_relu_stack(x)\n",
    "        return logits\n",
    "\n",
    "model = NeuralNetwork().to(device)\n",
    "print(model)\n"
   ],
   "metadata": {
    "collapsed": false,
    "pycharm": {
     "name": "#%%\n"
    }
   }
  },
  {
   "cell_type": "markdown",
   "source": [
    "### 모델 매개변수 최적화하기\n",
    "- 모델 학습을 위해서 손실함수(loss function)과 옵티마이저(OPTIMIZER) 필요\n",
    "- 각 학습 단계에서 모델은 학습 데이터에(배치) 대한 예측 수행 -> 예측 오류 역전파 -> 모델의 매개변수 조정"
   ],
   "metadata": {
    "collapsed": false,
    "pycharm": {
     "name": "#%% md\n"
    }
   }
  },
  {
   "cell_type": "code",
   "execution_count": 17,
   "outputs": [],
   "source": [
    "loss_fn = nn.CrossEntropyLoss()\n",
    "optimizer = torch.optim.SGD(model.parameters(), lr=1e-3)\n",
    "\n"
   ],
   "metadata": {
    "collapsed": false,
    "pycharm": {
     "name": "#%%\n"
    }
   }
  },
  {
   "cell_type": "code",
   "execution_count": 26,
   "outputs": [
    {
     "name": "stdout",
     "output_type": "stream",
     "text": [
      "Epoch : 1 ------------------- \n",
      "loss: 2.302335 [    0/60000]\n",
      "loss: 2.305166 [ 6400/60000]\n",
      "loss: 2.304675 [12800/60000]\n",
      "loss: 2.307642 [19200/60000]\n",
      "loss: 2.303192 [25600/60000]\n",
      "loss: 2.300145 [32000/60000]\n",
      "loss: 2.298880 [38400/60000]\n",
      "loss: 2.291548 [44800/60000]\n",
      "loss: 2.302987 [51200/60000]\n",
      "loss: 2.299479 [57600/60000]\n",
      "Test Error: \n",
      " Accuracy: 17.1%, Avg loss: 2.303559 \n",
      "\n",
      "Epoch : 2 ------------------- \n",
      "loss: 2.302335 [    0/60000]\n",
      "loss: 2.305166 [ 6400/60000]\n",
      "loss: 2.304675 [12800/60000]\n",
      "loss: 2.307642 [19200/60000]\n",
      "loss: 2.303192 [25600/60000]\n",
      "loss: 2.300145 [32000/60000]\n",
      "loss: 2.298880 [38400/60000]\n",
      "loss: 2.291548 [44800/60000]\n",
      "loss: 2.302987 [51200/60000]\n",
      "loss: 2.299479 [57600/60000]\n",
      "Test Error: \n",
      " Accuracy: 17.1%, Avg loss: 2.303559 \n",
      "\n",
      "Epoch : 3 ------------------- \n",
      "loss: 2.302335 [    0/60000]\n",
      "loss: 2.305166 [ 6400/60000]\n",
      "loss: 2.304675 [12800/60000]\n",
      "loss: 2.307642 [19200/60000]\n",
      "loss: 2.303192 [25600/60000]\n",
      "loss: 2.300145 [32000/60000]\n",
      "loss: 2.298880 [38400/60000]\n",
      "loss: 2.291548 [44800/60000]\n",
      "loss: 2.302987 [51200/60000]\n",
      "loss: 2.299479 [57600/60000]\n",
      "Test Error: \n",
      " Accuracy: 17.1%, Avg loss: 2.303559 \n",
      "\n",
      "Epoch : 4 ------------------- \n",
      "loss: 2.302335 [    0/60000]\n",
      "loss: 2.305166 [ 6400/60000]\n",
      "loss: 2.304675 [12800/60000]\n",
      "loss: 2.307642 [19200/60000]\n",
      "loss: 2.303192 [25600/60000]\n",
      "loss: 2.300145 [32000/60000]\n",
      "loss: 2.298880 [38400/60000]\n",
      "loss: 2.291548 [44800/60000]\n",
      "loss: 2.302987 [51200/60000]\n",
      "loss: 2.299479 [57600/60000]\n",
      "Test Error: \n",
      " Accuracy: 17.1%, Avg loss: 2.303559 \n",
      "\n",
      "Epoch : 5 ------------------- \n",
      "loss: 2.302335 [    0/60000]\n",
      "loss: 2.305166 [ 6400/60000]\n",
      "loss: 2.304675 [12800/60000]\n",
      "loss: 2.307642 [19200/60000]\n",
      "loss: 2.303192 [25600/60000]\n",
      "loss: 2.300145 [32000/60000]\n",
      "loss: 2.298880 [38400/60000]\n",
      "loss: 2.291548 [44800/60000]\n",
      "loss: 2.302987 [51200/60000]\n",
      "loss: 2.299479 [57600/60000]\n",
      "Test Error: \n",
      " Accuracy: 17.1%, Avg loss: 2.303559 \n",
      "\n",
      "Done!\n"
     ]
    }
   ],
   "source": [
    "def train(dataloader, model, loss_fn, optimzer):\n",
    "    size = len(dataloader.dataset) # 전체 데이터 개수\n",
    "    for batch, (X, y) in enumerate(dataloader):\n",
    "        X, y = X.to(device), y.to(device)\n",
    "\n",
    "        # 예측 오류 계산\n",
    "        pred = model(X)\n",
    "        loss = loss_fn(pred, y)\n",
    "\n",
    "        # 역전파\n",
    "        optimzer.zero_grad()\n",
    "        loss.backward()\n",
    "        optimzer.step()\n",
    "\n",
    "        if batch % 100==0:\n",
    "            loss, current = loss.item(), batch*len(X)\n",
    "            print(f'loss: {loss:7f} [{current:5d}/{size :5d}]')\n",
    "\n",
    "# 테스트 데이터 셋으로 모델의 성능 확인\n",
    "def test(dataloader, model, loss_fn):\n",
    "    size = len(dataloader.dataset)\n",
    "    num_batches = len(dataloader)\n",
    "    model.eval()\n",
    "    test_loss, correct = 0, 0\n",
    "    with torch.no_grad():\n",
    "        for X, y in dataloader:\n",
    "            X, y = X.to(device), y.to(device)\n",
    "            pred = model(X)\n",
    "            test_loss += loss_fn(pred, y).item()\n",
    "            correct += (pred.argmax(1) == y).type(torch.float).sum().item()\n",
    "    test_loss /= num_batches\n",
    "    correct /= size\n",
    "    print(f\"Test Error: \\n Accuracy: {(100*correct):>0.1f}%, Avg loss: {test_loss:>8f} \\n\")\n",
    "\n",
    "# 각 에폭(Epoch)에서 모델은 더 나은 예측을 위해 매개 변수를 학습.\n",
    "\n",
    "epoch = 5\n",
    "for t in range(epoch):\n",
    "    print(f'Epoch : {t+1} ------------------- ')\n",
    "    train(train_dataloader, model, loss_fn, optimizer)\n",
    "    test(test_dataloader, model, loss_fn)\n",
    "\n",
    "print('Done!')\n",
    "\n"
   ],
   "metadata": {
    "collapsed": false,
    "pycharm": {
     "name": "#%%\n"
    }
   }
  },
  {
   "cell_type": "markdown",
   "source": [
    "### 모델 저장하기\n",
    "\n",
    "- 내부 상태 사전(internal state dictionary, 모델의 매개변수 포함) 직렬화"
   ],
   "metadata": {
    "collapsed": false,
    "pycharm": {
     "name": "#%% md\n"
    }
   }
  },
  {
   "cell_type": "code",
   "execution_count": 28,
   "outputs": [
    {
     "name": "stdout",
     "output_type": "stream",
     "text": [
      "saved pytorch model\n"
     ]
    }
   ],
   "source": [
    "torch.save(model.state_dict(), './model/model.pth')\n",
    "print('saved pytorch model')"
   ],
   "metadata": {
    "collapsed": false,
    "pycharm": {
     "name": "#%%\n"
    }
   }
  },
  {
   "cell_type": "markdown",
   "source": [
    "### 모델 불러오기\n",
    "- 모델을 불러오는과정에는 모델 구조를 다시 만들고 상태 사전을 모델에 불러오는 과정이 포함됨\n"
   ],
   "metadata": {
    "collapsed": false,
    "pycharm": {
     "name": "#%% md\n"
    }
   }
  },
  {
   "cell_type": "code",
   "execution_count": 29,
   "outputs": [
    {
     "data": {
      "text/plain": "<All keys matched successfully>"
     },
     "execution_count": 29,
     "metadata": {},
     "output_type": "execute_result"
    }
   ],
   "source": [
    "model = NeuralNetwork()\n",
    "model.load_state_dict(torch.load('./model/model.pth'))"
   ],
   "metadata": {
    "collapsed": false,
    "pycharm": {
     "name": "#%%\n"
    }
   }
  },
  {
   "cell_type": "code",
   "execution_count": 30,
   "outputs": [
    {
     "name": "stdout",
     "output_type": "stream",
     "text": [
      "Prediction : Ankle boot / Actual :Ankle boot\n"
     ]
    }
   ],
   "source": [
    "# 모델을 사용한 예측\n",
    "classes = [\n",
    "    \"T-shirt/top\",\n",
    "    \"Trouser\",\n",
    "    \"Pullover\",\n",
    "    \"Dress\",\n",
    "    \"Coat\",\n",
    "    \"Sandal\",\n",
    "    \"Shirt\",\n",
    "    \"Sneaker\",\n",
    "    \"Bag\",\n",
    "    \"Ankle boot\",\n",
    "]\n",
    "\n",
    "model.eval()\n",
    "X,y = test_data[0][0], test_data[0][1]\n",
    "with torch.no_grad():\n",
    "    pred = model(X)\n",
    "    predicted, actual = classes[pred[0].argmax(0)], classes[y]\n",
    "    print(f'Prediction : {predicted} / Actual :{actual}')\n",
    "\n"
   ],
   "metadata": {
    "collapsed": false,
    "pycharm": {
     "name": "#%%\n"
    }
   }
  },
  {
   "cell_type": "code",
   "execution_count": null,
   "outputs": [],
   "source": [
    "# 모델 정의\n",
    "class NeuralNetwork(nn.Module):\n",
    "    def __init__(self):\n",
    "        super(NeuralNetwork, self).__init__()\n",
    "        self.flatten = nn.Flatten()\n",
    "        self.linear_relu_stack = nn.Sequential(\n",
    "            nn.Linear(28*28, 512),\n",
    "\n",
    "        )"
   ],
   "metadata": {
    "collapsed": false,
    "pycharm": {
     "name": "#%%\n"
    }
   }
  }
 ],
 "metadata": {
  "kernelspec": {
   "display_name": "Python 3",
   "language": "python",
   "name": "python3"
  },
  "language_info": {
   "codemirror_mode": {
    "name": "ipython",
    "version": 2
   },
   "file_extension": ".py",
   "mimetype": "text/x-python",
   "name": "python",
   "nbconvert_exporter": "python",
   "pygments_lexer": "ipython2",
   "version": "2.7.6"
  }
 },
 "nbformat": 4,
 "nbformat_minor": 0
}